{
 "cells": [
  {
   "cell_type": "code",
   "execution_count": 47,
   "metadata": {},
   "outputs": [],
   "source": [
    "import sys\n",
    "import importlib\n",
    "import string\n",
    "import random"
   ]
  },
  {
   "cell_type": "code",
   "execution_count": 48,
   "metadata": {},
   "outputs": [],
   "source": [
    "pandas_dir = r'C:\\python\\pandas'\n",
    "hvplot_dir = r'C:\\python\\hvplot'"
   ]
  },
  {
   "cell_type": "code",
   "execution_count": 49,
   "metadata": {},
   "outputs": [],
   "source": [
    "sys.path.insert(0, pandas_dir)\n",
    "sys.path.insert(0, hvplot_dir)"
   ]
  },
  {
   "cell_type": "code",
   "execution_count": 50,
   "metadata": {},
   "outputs": [
    {
     "name": "stdout",
     "output_type": "stream",
     "text": [
      "0.15.2+8520.gd063e0562\n",
      "0.4.0.post9+gb018152-dirty\n"
     ]
    }
   ],
   "source": [
    "import pandas as pd\n",
    "import hvplot\n",
    "\n",
    "_ = importlib.reload(pd)\n",
    "_ = importlib.reload(hvplot)\n",
    "\n",
    "print(pd.__version__)\n",
    "print(hvplot.__version__)"
   ]
  },
  {
   "cell_type": "code",
   "execution_count": 51,
   "metadata": {},
   "outputs": [],
   "source": [
    "n_rows = 100\n",
    "n_columns = 10\n",
    "index = pd.date_range(\n",
    "    start=pd.Timestamp(year=2019, month=1, day=1), \n",
    "    freq='D',\n",
    "    periods=n_rows,\n",
    "    )\n",
    "columns = [''.join(random.choice(string.ascii_uppercase + string.digits) for _ in range(5)) for _ in range(n_columns)]\n",
    "df = pd.DataFrame(pd.np.random.randn(100, 10), columns=columns, index=index)"
   ]
  },
  {
   "cell_type": "code",
   "execution_count": 52,
   "metadata": {},
   "outputs": [
    {
     "data": {
      "text/html": [
       "<div>\n",
       "<style scoped>\n",
       "    .dataframe tbody tr th:only-of-type {\n",
       "        vertical-align: middle;\n",
       "    }\n",
       "\n",
       "    .dataframe tbody tr th {\n",
       "        vertical-align: top;\n",
       "    }\n",
       "\n",
       "    .dataframe thead th {\n",
       "        text-align: right;\n",
       "    }\n",
       "</style>\n",
       "<table border=\"1\" class=\"dataframe\">\n",
       "  <thead>\n",
       "    <tr style=\"text-align: right;\">\n",
       "      <th></th>\n",
       "      <th>D1ZAC</th>\n",
       "      <th>X8B45</th>\n",
       "      <th>JJM26</th>\n",
       "      <th>MKY9U</th>\n",
       "      <th>31GT5</th>\n",
       "      <th>XY74O</th>\n",
       "      <th>M6DSK</th>\n",
       "      <th>FB02B</th>\n",
       "      <th>18TSA</th>\n",
       "      <th>ZELG9</th>\n",
       "    </tr>\n",
       "  </thead>\n",
       "  <tbody>\n",
       "    <tr>\n",
       "      <th>2019-01-01</th>\n",
       "      <td>0.677710</td>\n",
       "      <td>-0.902515</td>\n",
       "      <td>-0.688930</td>\n",
       "      <td>-0.126920</td>\n",
       "      <td>-1.609498</td>\n",
       "      <td>-0.334945</td>\n",
       "      <td>-0.320967</td>\n",
       "      <td>-0.348683</td>\n",
       "      <td>0.296975</td>\n",
       "      <td>0.736623</td>\n",
       "    </tr>\n",
       "    <tr>\n",
       "      <th>2019-01-02</th>\n",
       "      <td>1.171646</td>\n",
       "      <td>-0.916727</td>\n",
       "      <td>2.254339</td>\n",
       "      <td>0.328847</td>\n",
       "      <td>1.607094</td>\n",
       "      <td>-0.050044</td>\n",
       "      <td>-0.221751</td>\n",
       "      <td>0.076319</td>\n",
       "      <td>-0.496029</td>\n",
       "      <td>-1.182504</td>\n",
       "    </tr>\n",
       "    <tr>\n",
       "      <th>2019-01-03</th>\n",
       "      <td>1.095376</td>\n",
       "      <td>-0.964193</td>\n",
       "      <td>1.263797</td>\n",
       "      <td>0.637015</td>\n",
       "      <td>2.009552</td>\n",
       "      <td>0.078862</td>\n",
       "      <td>-0.671288</td>\n",
       "      <td>-0.658572</td>\n",
       "      <td>-0.890527</td>\n",
       "      <td>-0.225083</td>\n",
       "    </tr>\n",
       "    <tr>\n",
       "      <th>2019-01-04</th>\n",
       "      <td>0.582775</td>\n",
       "      <td>0.125899</td>\n",
       "      <td>-1.241486</td>\n",
       "      <td>-0.876361</td>\n",
       "      <td>-0.156398</td>\n",
       "      <td>-0.897848</td>\n",
       "      <td>0.195404</td>\n",
       "      <td>2.946208</td>\n",
       "      <td>-0.482010</td>\n",
       "      <td>-0.214664</td>\n",
       "    </tr>\n",
       "    <tr>\n",
       "      <th>2019-01-05</th>\n",
       "      <td>-0.039428</td>\n",
       "      <td>0.937950</td>\n",
       "      <td>0.752079</td>\n",
       "      <td>0.391343</td>\n",
       "      <td>0.945826</td>\n",
       "      <td>-2.460239</td>\n",
       "      <td>0.812786</td>\n",
       "      <td>-1.062438</td>\n",
       "      <td>1.316736</td>\n",
       "      <td>-0.048456</td>\n",
       "    </tr>\n",
       "  </tbody>\n",
       "</table>\n",
       "</div>"
      ],
      "text/plain": [
       "               D1ZAC     X8B45     JJM26     MKY9U     31GT5     XY74O  \\\n",
       "2019-01-01  0.677710 -0.902515 -0.688930 -0.126920 -1.609498 -0.334945   \n",
       "2019-01-02  1.171646 -0.916727  2.254339  0.328847  1.607094 -0.050044   \n",
       "2019-01-03  1.095376 -0.964193  1.263797  0.637015  2.009552  0.078862   \n",
       "2019-01-04  0.582775  0.125899 -1.241486 -0.876361 -0.156398 -0.897848   \n",
       "2019-01-05 -0.039428  0.937950  0.752079  0.391343  0.945826 -2.460239   \n",
       "\n",
       "               M6DSK     FB02B     18TSA     ZELG9  \n",
       "2019-01-01 -0.320967 -0.348683  0.296975  0.736623  \n",
       "2019-01-02 -0.221751  0.076319 -0.496029 -1.182504  \n",
       "2019-01-03 -0.671288 -0.658572 -0.890527 -0.225083  \n",
       "2019-01-04  0.195404  2.946208 -0.482010 -0.214664  \n",
       "2019-01-05  0.812786 -1.062438  1.316736 -0.048456  "
      ]
     },
     "execution_count": 52,
     "metadata": {},
     "output_type": "execute_result"
    }
   ],
   "source": [
    "df.head()"
   ]
  },
  {
   "cell_type": "code",
   "execution_count": 53,
   "metadata": {},
   "outputs": [],
   "source": [
    "pd.set_option('plotting.backend', 'hvplot')"
   ]
  },
  {
   "cell_type": "code",
   "execution_count": 54,
   "metadata": {
    "scrolled": false
   },
   "outputs": [
    {
     "name": "stderr",
     "output_type": "stream",
     "text": [
      "WARNING:param.main: hvPlot does not have the concept of axes, and the ax keyword will be ignored. Compose plots with the * operator to overlay plots or the + operator to lay out plots beside each other instead.\n",
      "WARNING:param.main: secondary_y option not found for line plot; similar options include: []\n",
      "WARNING:param.main: style option not found for line plot; similar options include: ['title']\n",
      "WARNING:param.main: table option not found for line plot; similar options include: ['title']\n",
      "WARNING:param.main: xerr option not found for line plot; similar options include: []\n",
      "WARNING:param.main: yerr option not found for line plot; similar options include: []\n"
     ]
    },
    {
     "name": "stdout",
     "output_type": "stream",
     "text": [
      "{'ax': None, 'figsize': None, 'use_index': True, 'title': None, 'grid': False, 'legend': False, 'style': None, 'logx': False, 'logy': False, 'loglog': False, 'xticks': None, 'yticks': None, 'xlim': None, 'ylim': None, 'rot': None, 'fontsize': None, 'colormap': None, 'table': False, 'yerr': None, 'xerr': None, 'label': None, 'secondary_y': False}\n"
     ]
    },
    {
     "data": {
      "application/vnd.holoviews_exec.v0+json": "",
      "text/html": [
       "<div id='1416' style='display: table; margin: 0 auto;'>\n",
       "\n",
       "\n",
       "\n",
       "\n",
       "\n",
       "  <div class=\"bk-root\" id=\"07506739-6dbf-4657-919e-340422f90758\" data-root-id=\"1416\"></div>\n",
       "</div>\n",
       "<script type=\"application/javascript\">(function(root) {\n",
       "  function embed_document(root) {\n",
       "    \n",
       "  var docs_json = {\"e461b120-9707-4ed3-b5b9-14c821269110\":{\"roots\":{\"references\":[{\"attributes\":{\"below\":[{\"id\":\"1425\",\"type\":\"DatetimeAxis\"}],\"center\":[{\"id\":\"1429\",\"type\":\"Grid\"},{\"id\":\"1434\",\"type\":\"Grid\"}],\"left\":[{\"id\":\"1430\",\"type\":\"LinearAxis\"}],\"margin\":null,\"min_border_bottom\":10,\"min_border_left\":10,\"min_border_right\":10,\"min_border_top\":10,\"plot_height\":300,\"plot_width\":700,\"renderers\":[{\"id\":\"1453\",\"type\":\"GlyphRenderer\"}],\"sizing_mode\":\"fixed\",\"title\":{\"id\":\"1417\",\"type\":\"Title\"},\"toolbar\":{\"id\":\"1440\",\"type\":\"Toolbar\"},\"x_range\":{\"id\":\"1413\",\"type\":\"Range1d\"},\"x_scale\":{\"id\":\"1421\",\"type\":\"LinearScale\"},\"y_range\":{\"id\":\"1414\",\"type\":\"Range1d\"},\"y_scale\":{\"id\":\"1423\",\"type\":\"LinearScale\"}},\"id\":\"1416\",\"subtype\":\"Figure\",\"type\":\"Plot\"},{\"attributes\":{\"months\":[0,6]},\"id\":\"1475\",\"type\":\"MonthsTicker\"},{\"attributes\":{},\"id\":\"1437\",\"type\":\"WheelZoomTool\"},{\"attributes\":{\"overlay\":{\"id\":\"1464\",\"type\":\"BoxAnnotation\"}},\"id\":\"1438\",\"type\":\"BoxZoomTool\"},{\"attributes\":{},\"id\":\"1439\",\"type\":\"ResetTool\"},{\"attributes\":{\"line_alpha\":0.2,\"line_color\":\"#1f77b4\",\"line_width\":2,\"x\":{\"field\":\"index\"},\"y\":{\"field\":\"D1ZAC\"}},\"id\":\"1452\",\"type\":\"Line\"},{\"attributes\":{},\"id\":\"1423\",\"type\":\"LinearScale\"},{\"attributes\":{\"days\":[1,15]},\"id\":\"1471\",\"type\":\"DaysTicker\"},{\"attributes\":{\"grid_line_color\":null,\"ticker\":{\"id\":\"1426\",\"type\":\"DatetimeTicker\"}},\"id\":\"1429\",\"type\":\"Grid\"},{\"attributes\":{\"source\":{\"id\":\"1447\",\"type\":\"ColumnDataSource\"}},\"id\":\"1454\",\"type\":\"CDSView\"},{\"attributes\":{\"line_color\":\"#1f77b4\",\"line_width\":2,\"x\":{\"field\":\"index\"},\"y\":{\"field\":\"D1ZAC\"}},\"id\":\"1450\",\"type\":\"Line\"},{\"attributes\":{\"text\":\"D1ZAC\",\"text_color\":{\"value\":\"black\"},\"text_font_size\":{\"value\":\"12pt\"}},\"id\":\"1417\",\"type\":\"Title\"},{\"attributes\":{},\"id\":\"1435\",\"type\":\"SaveTool\"},{\"attributes\":{},\"id\":\"1431\",\"type\":\"BasicTicker\"},{\"attributes\":{},\"id\":\"1436\",\"type\":\"PanTool\"},{\"attributes\":{\"callback\":null,\"data\":{\"D1ZAC\":{\"__ndarray__\":\"gbHC4syv5T9EZ0XrD7/yP0pp4/SohvE/lm1j/xem4j9qqkL17y+kvzNhETCjj+w//wc+JH1sy7+0u2WvNrnVvzmhLWcP/PY/L3O7gUgy8T/O5OG1WvntPztTw4AP+9E/BKs3b3zm3r/jub7tC6bTv+ZyIa2t6/E/ZeIvzKLj7L9WP7pwkpcGwO+tE2v7qcg/B/Sneg85wL8HzmBm1qGxPxLx4wN2osa/f0HYjJon9D+mYcFIs9/rP5cEsMFSf/o/E5jlAeHm77/alXuGN5z1v/W7JUXU+eq/XmBuDJ3H6j+I3mWi0fXjP3VlEK+p9Pa/6gRVzyAx5j/0e0m2vvTbvx7FNpAnfde/XmGbR2bN1j+TEWd6GzHwvwNiLU4JJdS/ig7AEFtJ+j99DPlNp171v1mFpOfsadg/cbYske2S4b9pTRyfcCnkPxZpfd46/tQ/iCB8mwXb4z+xGa7se1P4v4vE+iijwd2/p/oq7z8/wj+s0GUqlEzRv40PR06J/PM/eIkE7OEt7r+eScgODb3zv9ubom+srPE/t0bhF3q81T+2vxvmrrz1v6q/wAU6vfs/7gGjvxYI/D+6ZolS1e3Kv0Rfwbl3Sr6/E9oD7bXU679OFAJcBfHQP4pWrxxd2uS/t99Zkuym5j9hLaW95AHqv/69iuATJv6/tTWRWL/O17/kl05wY9vkv2tS2g2pMO8//CfI2sed5T96C+DVDL7sv0x1fe58ae0/EuaEBYSE0D+b8+0bLQHbv2q9c5F+nNw/6SXsPxpa678aTfv3FjEBQKmgXvoA99C/alev2Xk6iD88visVTFfjv/UkG47se8u/HjQ3aai41r+amIORwhHcv7Wu9GZ0Fn4/sBXD8YgToz9kZgVS5IL/P5zP88zvJPC/FGL+QssS9L+JfHZ+1DXMP58/RsUXROO/xTDb2bcN5L8Bi4REmWnov32hAzTybMk/RQwaNhpX9D82kDySUBDLP0nf2sqOsdc/wK19ud5527+t3Jghivvwv4GOa7NhOtY/xcBUkfZ75r/pmExWtp/nvxWw0Bk3D82/wtuPcN0W8L8=\",\"dtype\":\"float64\",\"shape\":[100]},\"index\":{\"__ndarray__\":\"AADAW2uAdkIAAIDBvYB2QgAAQCcQgXZCAAAAjWKBdkIAAMDytIF2QgAAgFgHgnZCAABAvlmCdkIAAAAkrIJ2QgAAwIn+gnZCAACA71CDdkIAAEBVo4N2QgAAALv1g3ZCAADAIEiEdkIAAICGmoR2QgAAQOzshHZCAAAAUj+FdkIAAMC3kYV2QgAAgB3khXZCAABAgzaGdkIAAADpiIZ2QgAAwE7bhnZCAACAtC2HdkIAAEAagId2QgAAAIDSh3ZCAADA5SSIdkIAAIBLd4h2QgAAQLHJiHZCAAAAFxyJdkIAAMB8bol2QgAAgOLAiXZCAABASBOKdkIAAACuZYp2QgAAwBO4inZCAACAeQqLdkIAAEDfXIt2QgAAAEWvi3ZCAADAqgGMdkIAAIAQVIx2QgAAQHamjHZCAAAA3PiMdkIAAMBBS412QgAAgKedjXZCAABADfCNdkIAAABzQo52QgAAwNiUjnZCAACAPueOdkIAAECkOY92QgAAAAqMj3ZCAADAb96PdkIAAIDVMJB2QgAAQDuDkHZCAAAAodWQdkIAAMAGKJF2QgAAgGx6kXZCAABA0syRdkIAAAA4H5J2QgAAwJ1xknZCAACAA8SSdkIAAEBpFpN2QgAAAM9ok3ZCAADANLuTdkIAAICaDZR2QgAAQABglHZCAAAAZrKUdkIAAMDLBJV2QgAAgDFXlXZCAABAl6mVdkIAAAD9+5V2QgAAwGJOlnZCAACAyKCWdkIAAEAu85Z2QgAAAJRFl3ZCAADA+ZeXdkIAAIBf6pd2QgAAQMU8mHZCAAAAK4+YdkIAAMCQ4Zh2QgAAgPYzmXZCAABAXIaZdkIAAADC2Jl2QgAAwCcrmnZCAACAjX2adkIAAEDzz5p2QgAAAFkim3ZCAADAvnSbdkIAAIAkx5t2QgAAQIoZnHZCAAAA8GucdkIAAMBVvpx2QgAAgLsQnXZCAABAIWOddkIAAACHtZ12QgAAwOwHnnZCAACAUlqedkIAAEC4rJ52QgAAAB7/nnZCAADAg1GfdkIAAIDpo592QgAAQE/2n3ZCAAAAtUigdkI=\",\"dtype\":\"float64\",\"shape\":[100]},\"index_dt_strings\":[\"2019-01-01 00:00:00\",\"2019-01-02 00:00:00\",\"2019-01-03 00:00:00\",\"2019-01-04 00:00:00\",\"2019-01-05 00:00:00\",\"2019-01-06 00:00:00\",\"2019-01-07 00:00:00\",\"2019-01-08 00:00:00\",\"2019-01-09 00:00:00\",\"2019-01-10 00:00:00\",\"2019-01-11 00:00:00\",\"2019-01-12 00:00:00\",\"2019-01-13 00:00:00\",\"2019-01-14 00:00:00\",\"2019-01-15 00:00:00\",\"2019-01-16 00:00:00\",\"2019-01-17 00:00:00\",\"2019-01-18 00:00:00\",\"2019-01-19 00:00:00\",\"2019-01-20 00:00:00\",\"2019-01-21 00:00:00\",\"2019-01-22 00:00:00\",\"2019-01-23 00:00:00\",\"2019-01-24 00:00:00\",\"2019-01-25 00:00:00\",\"2019-01-26 00:00:00\",\"2019-01-27 00:00:00\",\"2019-01-28 00:00:00\",\"2019-01-29 00:00:00\",\"2019-01-30 00:00:00\",\"2019-01-31 00:00:00\",\"2019-02-01 00:00:00\",\"2019-02-02 00:00:00\",\"2019-02-03 00:00:00\",\"2019-02-04 00:00:00\",\"2019-02-05 00:00:00\",\"2019-02-06 00:00:00\",\"2019-02-07 00:00:00\",\"2019-02-08 00:00:00\",\"2019-02-09 00:00:00\",\"2019-02-10 00:00:00\",\"2019-02-11 00:00:00\",\"2019-02-12 00:00:00\",\"2019-02-13 00:00:00\",\"2019-02-14 00:00:00\",\"2019-02-15 00:00:00\",\"2019-02-16 00:00:00\",\"2019-02-17 00:00:00\",\"2019-02-18 00:00:00\",\"2019-02-19 00:00:00\",\"2019-02-20 00:00:00\",\"2019-02-21 00:00:00\",\"2019-02-22 00:00:00\",\"2019-02-23 00:00:00\",\"2019-02-24 00:00:00\",\"2019-02-25 00:00:00\",\"2019-02-26 00:00:00\",\"2019-02-27 00:00:00\",\"2019-02-28 00:00:00\",\"2019-03-01 00:00:00\",\"2019-03-02 00:00:00\",\"2019-03-03 00:00:00\",\"2019-03-04 00:00:00\",\"2019-03-05 00:00:00\",\"2019-03-06 00:00:00\",\"2019-03-07 00:00:00\",\"2019-03-08 00:00:00\",\"2019-03-09 00:00:00\",\"2019-03-10 00:00:00\",\"2019-03-11 00:00:00\",\"2019-03-12 00:00:00\",\"2019-03-13 00:00:00\",\"2019-03-14 00:00:00\",\"2019-03-15 00:00:00\",\"2019-03-16 00:00:00\",\"2019-03-17 00:00:00\",\"2019-03-18 00:00:00\",\"2019-03-19 00:00:00\",\"2019-03-20 00:00:00\",\"2019-03-21 00:00:00\",\"2019-03-22 00:00:00\",\"2019-03-23 00:00:00\",\"2019-03-24 00:00:00\",\"2019-03-25 00:00:00\",\"2019-03-26 00:00:00\",\"2019-03-27 00:00:00\",\"2019-03-28 00:00:00\",\"2019-03-29 00:00:00\",\"2019-03-30 00:00:00\",\"2019-03-31 00:00:00\",\"2019-04-01 00:00:00\",\"2019-04-02 00:00:00\",\"2019-04-03 00:00:00\",\"2019-04-04 00:00:00\",\"2019-04-05 00:00:00\",\"2019-04-06 00:00:00\",\"2019-04-07 00:00:00\",\"2019-04-08 00:00:00\",\"2019-04-09 00:00:00\",\"2019-04-10 00:00:00\"]},\"selected\":{\"id\":\"1448\",\"type\":\"Selection\"},\"selection_policy\":{\"id\":\"1477\",\"type\":\"UnionRenderers\"}},\"id\":\"1447\",\"type\":\"ColumnDataSource\"},{\"attributes\":{},\"id\":\"1476\",\"type\":\"YearsTicker\"},{\"attributes\":{\"months\":[0,2,4,6,8,10]},\"id\":\"1473\",\"type\":\"MonthsTicker\"},{\"attributes\":{\"mantissas\":[1,2,5],\"max_interval\":500.0,\"num_minor_ticks\":0},\"id\":\"1465\",\"type\":\"AdaptiveTicker\"},{\"attributes\":{\"axis_label\":\"\",\"bounds\":\"auto\",\"formatter\":{\"id\":\"1455\",\"type\":\"DatetimeTickFormatter\"},\"major_label_orientation\":\"horizontal\",\"ticker\":{\"id\":\"1426\",\"type\":\"DatetimeTicker\"}},\"id\":\"1425\",\"type\":\"DatetimeAxis\"},{\"attributes\":{\"axis_label\":\"\",\"bounds\":\"auto\",\"formatter\":{\"id\":\"1457\",\"type\":\"BasicTickFormatter\"},\"major_label_orientation\":\"horizontal\",\"ticker\":{\"id\":\"1431\",\"type\":\"BasicTicker\"}},\"id\":\"1430\",\"type\":\"LinearAxis\"},{\"attributes\":{\"dimension\":1,\"grid_line_color\":null,\"ticker\":{\"id\":\"1431\",\"type\":\"BasicTicker\"}},\"id\":\"1434\",\"type\":\"Grid\"},{\"attributes\":{\"days\":[1,4,7,10,13,16,19,22,25,28]},\"id\":\"1469\",\"type\":\"DaysTicker\"},{\"attributes\":{\"active_drag\":\"auto\",\"active_inspect\":\"auto\",\"active_multi\":null,\"active_scroll\":\"auto\",\"active_tap\":\"auto\",\"tools\":[{\"id\":\"1415\",\"type\":\"HoverTool\"},{\"id\":\"1435\",\"type\":\"SaveTool\"},{\"id\":\"1436\",\"type\":\"PanTool\"},{\"id\":\"1437\",\"type\":\"WheelZoomTool\"},{\"id\":\"1438\",\"type\":\"BoxZoomTool\"},{\"id\":\"1439\",\"type\":\"ResetTool\"}]},\"id\":\"1440\",\"type\":\"Toolbar\"},{\"attributes\":{\"days\":[1,2,3,4,5,6,7,8,9,10,11,12,13,14,15,16,17,18,19,20,21,22,23,24,25,26,27,28,29,30,31]},\"id\":\"1468\",\"type\":\"DaysTicker\"},{\"attributes\":{},\"id\":\"1448\",\"type\":\"Selection\"},{\"attributes\":{\"callback\":null,\"end\":1554854400000.0,\"reset_end\":1554854400000.0,\"reset_start\":1546300800000.0,\"start\":1546300800000.0,\"tags\":[[[\"index\",\"index\",null]]]},\"id\":\"1413\",\"type\":\"Range1d\"},{\"attributes\":{\"num_minor_ticks\":5,\"tickers\":[{\"id\":\"1465\",\"type\":\"AdaptiveTicker\"},{\"id\":\"1466\",\"type\":\"AdaptiveTicker\"},{\"id\":\"1467\",\"type\":\"AdaptiveTicker\"},{\"id\":\"1468\",\"type\":\"DaysTicker\"},{\"id\":\"1469\",\"type\":\"DaysTicker\"},{\"id\":\"1470\",\"type\":\"DaysTicker\"},{\"id\":\"1471\",\"type\":\"DaysTicker\"},{\"id\":\"1472\",\"type\":\"MonthsTicker\"},{\"id\":\"1473\",\"type\":\"MonthsTicker\"},{\"id\":\"1474\",\"type\":\"MonthsTicker\"},{\"id\":\"1475\",\"type\":\"MonthsTicker\"},{\"id\":\"1476\",\"type\":\"YearsTicker\"}]},\"id\":\"1426\",\"type\":\"DatetimeTicker\"},{\"attributes\":{},\"id\":\"1477\",\"type\":\"UnionRenderers\"},{\"attributes\":{\"bottom_units\":\"screen\",\"fill_alpha\":{\"value\":0.5},\"fill_color\":{\"value\":\"lightgrey\"},\"left_units\":\"screen\",\"level\":\"overlay\",\"line_alpha\":{\"value\":1.0},\"line_color\":{\"value\":\"black\"},\"line_dash\":[4,4],\"line_width\":{\"value\":2},\"render_mode\":\"css\",\"right_units\":\"screen\",\"top_units\":\"screen\"},\"id\":\"1464\",\"type\":\"BoxAnnotation\"},{\"attributes\":{\"days\":[1,8,15,22]},\"id\":\"1470\",\"type\":\"DaysTicker\"},{\"attributes\":{\"base\":60,\"mantissas\":[1,2,5,10,15,20,30],\"max_interval\":1800000.0,\"min_interval\":1000.0,\"num_minor_ticks\":0},\"id\":\"1466\",\"type\":\"AdaptiveTicker\"},{\"attributes\":{\"months\":[0,4,8]},\"id\":\"1474\",\"type\":\"MonthsTicker\"},{\"attributes\":{\"base\":24,\"mantissas\":[1,2,4,6,8,12],\"max_interval\":43200000.0,\"min_interval\":3600000.0,\"num_minor_ticks\":0},\"id\":\"1467\",\"type\":\"AdaptiveTicker\"},{\"attributes\":{\"data_source\":{\"id\":\"1447\",\"type\":\"ColumnDataSource\"},\"glyph\":{\"id\":\"1450\",\"type\":\"Line\"},\"hover_glyph\":null,\"muted_glyph\":{\"id\":\"1452\",\"type\":\"Line\"},\"nonselection_glyph\":{\"id\":\"1451\",\"type\":\"Line\"},\"selection_glyph\":null,\"view\":{\"id\":\"1454\",\"type\":\"CDSView\"}},\"id\":\"1453\",\"type\":\"GlyphRenderer\"},{\"attributes\":{\"callback\":null,\"end\":2.148969590527156,\"reset_end\":2.148969590527156,\"reset_start\":-2.8240097815359304,\"start\":-2.8240097815359304,\"tags\":[[[\"D1ZAC\",\"D1ZAC\",null]]]},\"id\":\"1414\",\"type\":\"Range1d\"},{\"attributes\":{\"callback\":null,\"renderers\":[{\"id\":\"1453\",\"type\":\"GlyphRenderer\"}],\"tags\":[\"hv_created\"],\"tooltips\":[[\"index\",\"@{index_dt_strings}\"],[\"D1ZAC\",\"@{D1ZAC}\"]]},\"id\":\"1415\",\"type\":\"HoverTool\"},{\"attributes\":{},\"id\":\"1455\",\"type\":\"DatetimeTickFormatter\"},{\"attributes\":{\"line_alpha\":0.1,\"line_color\":\"#1f77b4\",\"line_width\":2,\"x\":{\"field\":\"index\"},\"y\":{\"field\":\"D1ZAC\"}},\"id\":\"1451\",\"type\":\"Line\"},{\"attributes\":{},\"id\":\"1457\",\"type\":\"BasicTickFormatter\"},{\"attributes\":{\"months\":[0,1,2,3,4,5,6,7,8,9,10,11]},\"id\":\"1472\",\"type\":\"MonthsTicker\"},{\"attributes\":{},\"id\":\"1421\",\"type\":\"LinearScale\"}],\"root_ids\":[\"1416\"]},\"title\":\"Bokeh Application\",\"version\":\"1.2.0\"}};\n",
       "  var render_items = [{\"docid\":\"e461b120-9707-4ed3-b5b9-14c821269110\",\"roots\":{\"1416\":\"07506739-6dbf-4657-919e-340422f90758\"}}];\n",
       "  root.Bokeh.embed.embed_items_notebook(docs_json, render_items);\n",
       "\n",
       "  }\n",
       "  if (root.Bokeh !== undefined) {\n",
       "    embed_document(root);\n",
       "  } else {\n",
       "    var attempts = 0;\n",
       "    var timer = setInterval(function(root) {\n",
       "      if (root.Bokeh !== undefined) {\n",
       "        embed_document(root);\n",
       "        clearInterval(timer);\n",
       "      }\n",
       "      attempts++;\n",
       "      if (attempts > 100) {\n",
       "        console.log(\"Bokeh: ERROR: Unable to run BokehJS code because BokehJS library is missing\");\n",
       "        clearInterval(timer);\n",
       "      }\n",
       "    }, 10, root)\n",
       "  }\n",
       "})(window);</script>"
      ],
      "text/plain": [
       ":Curve   [index]   (D1ZAC)"
      ]
     },
     "execution_count": 54,
     "metadata": {
      "application/vnd.holoviews_exec.v0+json": {
       "id": "1416"
      }
     },
     "output_type": "execute_result"
    }
   ],
   "source": [
    "df.iloc[:, 0].plot()"
   ]
  }
 ],
 "metadata": {
  "kernelspec": {
   "display_name": "Python 3",
   "language": "python",
   "name": "python3"
  },
  "language_info": {
   "codemirror_mode": {
    "name": "ipython",
    "version": 3
   },
   "file_extension": ".py",
   "mimetype": "text/x-python",
   "name": "python",
   "nbconvert_exporter": "python",
   "pygments_lexer": "ipython3",
   "version": "3.7.3"
  }
 },
 "nbformat": 4,
 "nbformat_minor": 2
}
